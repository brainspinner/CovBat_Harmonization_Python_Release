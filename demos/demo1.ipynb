{
 "cells": [
  {
   "cell_type": "markdown",
   "id": "b9d8ddd4-149e-46ae-bb1f-64462b00dc1c",
   "metadata": {},
   "source": [
    "# to be run in neuron_go environment"
   ]
  },
  {
   "cell_type": "code",
   "execution_count": 2,
   "id": "bc962c6a-1538-45dc-b487-a0205487b230",
   "metadata": {
    "tags": []
   },
   "outputs": [],
   "source": [
    "import pandas as pd\n",
    "import numpy as np\n",
    "\n",
    "\n",
    "import os       # using operating system dependent functionality (folders)\n",
    "import sys\n",
    "import glob\n",
    "from functools import reduce\n",
    "\n",
    "import pandas as pd # data analysis and manipulation\n",
    "import numpy as np    # numerical computing (manipulating and performing operations on arrays of data)\n",
    "# import matplotlib.pyplot as plt\n",
    "# import ipywidgets as widgets\n",
    "# from ipywidgets import interactive\n",
    "# import seaborn as sns\n",
    "\n",
    "\n",
    "\n",
    "sys.path.insert(0, '../') # path to functions\n",
    "import Python.covbat as cov\n"
   ]
  },
  {
   "cell_type": "code",
   "execution_count": null,
   "id": "6d606a66-c402-4aec-9f8d-955a534a3876",
   "metadata": {},
   "outputs": [],
   "source": []
  }
 ],
 "metadata": {
  "kernelspec": {
   "display_name": "Python 3 (ipykernel)",
   "language": "python",
   "name": "python3"
  },
  "language_info": {
   "codemirror_mode": {
    "name": "ipython",
    "version": 3
   },
   "file_extension": ".py",
   "mimetype": "text/x-python",
   "name": "python",
   "nbconvert_exporter": "python",
   "pygments_lexer": "ipython3",
   "version": "3.7.12"
  }
 },
 "nbformat": 4,
 "nbformat_minor": 5
}
