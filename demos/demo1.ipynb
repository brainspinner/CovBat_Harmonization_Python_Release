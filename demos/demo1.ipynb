{
 "cells": [
  {
   "cell_type": "markdown",
   "id": "106ab19d-1098-4455-ab8f-11213d901d1c",
   "metadata": {},
   "source": [
    "# Covbat harmonization"
   ]
  },
  {
   "cell_type": "markdown",
   "id": "b9d8ddd4-149e-46ae-bb1f-64462b00dc1c",
   "metadata": {},
   "source": [
    "## to be run in `covbatant` environment"
   ]
  },
  {
   "cell_type": "markdown",
   "id": "36d5a4a0-8bd8-4e75-a983-ce0a72f9d9a3",
   "metadata": {},
   "source": [
    "### import libraries"
   ]
  },
  {
   "cell_type": "code",
   "execution_count": null,
   "id": "bc962c6a-1538-45dc-b487-a0205487b230",
   "metadata": {
    "tags": []
   },
   "outputs": [],
   "source": [
    "import os       # using operating system dependent functionality (folders)\n",
    "import sys\n",
    "import glob\n",
    "from functools import reduce\n",
    "\n",
    "import pandas as pd # data analysis and manipulation\n",
    "import numpy as np    # numerical computing (manipulating and performing operations on arrays of data)\n",
    "\n",
    "\n",
    "sys.path.insert(0, '../') # path to functions\n",
    "import Python.covbat as cov\n"
   ]
  },
  {
   "cell_type": "code",
   "execution_count": null,
   "id": "6d606a66-c402-4aec-9f8d-955a534a3876",
   "metadata": {},
   "outputs": [],
   "source": [
    "MRI_path = '../our_datasets/StrokeMRI/'\n",
    "TOP_path = '../our_datasets/TOP/'\n",
    "file_name = 'TrainingDataComplete.csv'\n",
    "TOP_file = os.path.join(TOP_path, file_name)\n",
    "MRI_file = os.path.join(MRI_path, file_name)\n",
    "TOP = pd.read_csv(TOP_file)\n",
    "MRI = pd.read_csv(MRI_file)\n",
    "#\"C:\\Projects\\CovBat_Harmonization_Python_Release\\our_datasets\\StrokeMRI\\TrainingDataComplete.csv\""
   ]
  },
  {
   "cell_type": "code",
   "execution_count": null,
   "id": "2af05420-0b2a-4d23-847d-7d7afb97c094",
   "metadata": {
    "tags": []
   },
   "outputs": [],
   "source": [
    "## harmonize just TOP and MRI"
   ]
  },
  {
   "cell_type": "code",
   "execution_count": null,
   "id": "d59b5d50-c83c-4bc2-90d2-02a0380d7548",
   "metadata": {
    "tags": []
   },
   "outputs": [],
   "source": [
    "TOP['batch'] = 0\n",
    "MRI['batch'] = 1"
   ]
  },
  {
   "cell_type": "code",
   "execution_count": null,
   "id": "44d86475-4386-4083-9218-72bffdb8b468",
   "metadata": {
    "tags": []
   },
   "outputs": [],
   "source": [
    "TOP.head(3)"
   ]
  },
  {
   "cell_type": "code",
   "execution_count": null,
   "id": "b73f693d-6f1f-456f-93ff-6e74bc036b08",
   "metadata": {
    "tags": []
   },
   "outputs": [],
   "source": [
    "TOPMRI.columns"
   ]
  },
  {
   "cell_type": "code",
   "execution_count": null,
   "id": "1db0272c-2da5-40b2-93dc-e7a5bf5394db",
   "metadata": {
    "tags": []
   },
   "outputs": [],
   "source": [
    "TOPMRI = pd.concat ([TOP, MRI], axis=0)\n",
    "TOPMRI_peeled = TOPMRI[['Age', 'Sex', 'GM_vol', 'WM_vol',\n",
    "       'CSF_vol', 'GM_ICVRatio', 'GMWM_ICVRatio', 'WMHvol_WMvol', 'WMH_count',\n",
    "       'DeepWM_B_CoV', 'ACA_B_CoV', 'MCA_B_CoV', 'PCA_B_CoV', 'TotalGM_B_CoV',\n",
    "       'DeepWM_B_CBF', 'ACA_B_CBF', 'MCA_B_CBF', 'PCA_B_CBF', 'TotalGM_B_CBF',\n",
    "       'batch']]"
   ]
  },
  {
   "cell_type": "code",
   "execution_count": null,
   "id": "dfbc4249-cef9-47db-94b5-1b17052960b1",
   "metadata": {
    "tags": []
   },
   "outputs": [],
   "source": [
    "TOPMRI_peeled = TOPMRI_peeled.reset_index()"
   ]
  },
  {
   "cell_type": "code",
   "execution_count": null,
   "id": "9bae93d8-5e5d-47c8-be93-6f13491c3e67",
   "metadata": {
    "tags": []
   },
   "outputs": [],
   "source": [
    "cov.covbat(TOPMRI_peeled, TOPMRI_peeled['batch'])#,numerical_covariates= [TOPMRI_peeled['Age']])\n",
    "\n",
    "#def covbat(data, batch, model=None, numerical_covariates=None, pct_var=0.95, n_pc=0):"
   ]
  },
  {
   "cell_type": "code",
   "execution_count": null,
   "id": "16a05d3f-bd37-4478-8fea-b9d89332eb75",
   "metadata": {},
   "outputs": [],
   "source": []
  }
 ],
 "metadata": {
  "kernelspec": {
   "display_name": "Python 3 (ipykernel)",
   "language": "python",
   "name": "python3"
  },
  "language_info": {
   "codemirror_mode": {
    "name": "ipython",
    "version": 3
   },
   "file_extension": ".py",
   "mimetype": "text/x-python",
   "name": "python",
   "nbconvert_exporter": "python",
   "pygments_lexer": "ipython3",
   "version": "3.7.12"
  }
 },
 "nbformat": 4,
 "nbformat_minor": 5
}
